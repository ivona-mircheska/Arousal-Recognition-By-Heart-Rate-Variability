{
 "cells": [
  {
   "cell_type": "markdown",
   "metadata": {},
   "source": [
    "# Classification\n"
   ]
  },
  {
   "cell_type": "code",
   "execution_count": null,
   "metadata": {},
   "outputs": [],
   "source": [
    "import pandas as pd\n",
    "import os\n",
    "import matplotlib.pyplot as plt\n",
    "import numpy as np\n",
    "import seaborn as sns\n",
    "from sklearn.dummy import DummyClassifier\n",
    "from sklearn.tree import DecisionTreeClassifier\n",
    "from sklearn.model_selection import GridSearchCV\n",
    "from sklearn.ensemble import RandomForestClassifier\n",
    "from sklearn.preprocessing import LabelEncoder\n",
    "import xgboost as xgb\n",
    "from sklearn.ensemble import AdaBoostClassifier\n",
    "from sklearn import svm \n",
    "from sklearn.svm import SVC\n",
    "from sklearn.neighbors import KNeighborsClassifier\n",
    "from sklearn.feature_selection import RFE"
   ]
  },
  {
   "cell_type": "markdown",
   "metadata": {},
   "source": [
    "# 1. Without normalisation"
   ]
  },
  {
   "cell_type": "markdown",
   "metadata": {},
   "source": [
    "# 1.1. Load data\n"
   ]
  },
  {
   "cell_type": "code",
   "execution_count": null,
   "metadata": {},
   "outputs": [],
   "source": [
    "train_df=pd.read_csv(\"C:\\\\Users\\\\Ivona\\\\Desktop\\\\Arousal\\\\Arousal classification\\\\TRAIN.csv\")\n",
    "train_df"
   ]
  },
  {
   "cell_type": "code",
   "execution_count": null,
   "metadata": {},
   "outputs": [],
   "source": [
    "del train_df['video']\n",
    "del train_df['valence']\n",
    "del train_df['ID']\n",
    "train_df.dropna(axis=0, inplace=True, subset=['arousal'])\n",
    "train_df"
   ]
  },
  {
   "cell_type": "code",
   "execution_count": null,
   "metadata": {},
   "outputs": [],
   "source": [
    "train_df_cl=train_df.replace({'arousal': {1.0:'low',2.0:'low',3.0:'low',4.0:'medium',5.0:'medium',6.0:'medium',7.0: 'high', 8.0: 'high',9.0:'high'}})\n",
    "train_df_cl"
   ]
  },
  {
   "cell_type": "code",
   "execution_count": null,
   "metadata": {},
   "outputs": [],
   "source": [
    "validation_df=pd.read_csv('C:\\\\Users\\\\Ivona\\\\Desktop\\\\Arousal\\\\Arousal classification\\\\VALIDATION.csv')\n",
    "validation_df"
   ]
  },
  {
   "cell_type": "code",
   "execution_count": null,
   "metadata": {},
   "outputs": [],
   "source": [
    "del validation_df['video']\n",
    "del validation_df['valence']\n",
    "del validation_df['ID']\n",
    "validation_df.dropna(axis=0, inplace=True, subset=['arousal'])\n",
    "validation_df"
   ]
  },
  {
   "cell_type": "code",
   "execution_count": null,
   "metadata": {},
   "outputs": [],
   "source": [
    "validation_df_cl=train_df.replace({'arousal': {1.0:'low',2.0:'low',3.0:'low',4.0:'medium',5.0:'medium',6.0:'medium',7.0: 'high', 8.0: 'high',9.0:'high'}})\n",
    "validation_df_cl"
   ]
  },
  {
   "cell_type": "code",
   "execution_count": null,
   "metadata": {},
   "outputs": [],
   "source": [
    "test_df=pd.read_csv(\"C:\\\\Users\\\\Ivona\\\\Desktop\\\\Arousal\\\\Arousal classification\\\\TEST.csv\")\n",
    "test_df"
   ]
  },
  {
   "cell_type": "code",
   "execution_count": null,
   "metadata": {},
   "outputs": [],
   "source": [
    "del test_df['video']\n",
    "del test_df['valence']\n",
    "del test_df['ID']\n",
    "test_df.dropna(axis=0, inplace=True, subset=['arousal'])\n",
    "test_df"
   ]
  },
  {
   "cell_type": "code",
   "execution_count": null,
   "metadata": {},
   "outputs": [],
   "source": [
    "test_df_cl=test_df.replace({'arousal': {1.0:'low',2.0:'low',3.0:'low',4.0:'medium',5.0:'medium',6.0:'medium',7.0: 'high', 8.0: 'high',9.0:'high'}})\n",
    "test_df_cl"
   ]
  },
  {
   "cell_type": "markdown",
   "metadata": {},
   "source": [
    "#  1.2. Data visualization \n"
   ]
  },
  {
   "cell_type": "code",
   "execution_count": null,
   "metadata": {},
   "outputs": [],
   "source": [
    "def get_percentage_cnt(df, col):   \n",
    "    t1 = pd.DataFrame(df.groupby(col)[col].count().rename('cnt%'))\n",
    "    t1.reset_index(inplace=True)\n",
    "    t1['cnt%'] = round((t1['cnt%'] * 100) / t1['cnt%'].sum(),2)\n",
    "    return t1\n",
    "\n",
    "def myplot(x, y, df):\n",
    "    ax = sns.barplot(x=x, y=y, data=df)\n",
    "    for p in ax.patches:\n",
    "        ax.annotate('{0:.1f}%'.format(p.get_height()), (p.get_x()+0.1, p.get_height()))"
   ]
  },
  {
   "cell_type": "code",
   "execution_count": null,
   "metadata": {},
   "outputs": [],
   "source": [
    "plt.figure(figsize=(25,5))\n",
    "\n",
    "dual_categories = ['arousal']\n",
    "plt_cnt = 1;\n",
    "for feature in dual_categories:\n",
    "    plt.subplot(1,2,plt_cnt)\n",
    "    tempdf = get_percentage_cnt(validation_df_cl, feature)\n",
    "    myplot(feature, 'cnt%', tempdf)\n",
    "    plt_cnt += 1\n",
    "\n",
    "plt.show()"
   ]
  },
  {
   "cell_type": "code",
   "execution_count": null,
   "metadata": {},
   "outputs": [],
   "source": [
    "plt.figure(figsize=(25,5))\n",
    "\n",
    "dual_categories = ['arousal']\n",
    "\n",
    "plt_cnt = 1;\n",
    "for feature in dual_categories:\n",
    "    plt.subplot(1,2,plt_cnt)\n",
    "    tempdf = get_percentage_cnt(test_df_cl, feature)\n",
    "    myplot(feature, 'cnt%', tempdf)\n",
    "    plt_cnt += 1\n",
    "\n",
    "plt.show()"
   ]
  },
  {
   "cell_type": "code",
   "execution_count": null,
   "metadata": {},
   "outputs": [],
   "source": [
    "train_x=train_df_cl.drop(['arousal'], axis=1)\n",
    "train_x"
   ]
  },
  {
   "cell_type": "code",
   "execution_count": null,
   "metadata": {},
   "outputs": [],
   "source": [
    "validation_x=validation_df_cl.drop(['arousal'], axis=1)\n",
    "validation_x"
   ]
  },
  {
   "cell_type": "code",
   "execution_count": null,
   "metadata": {},
   "outputs": [],
   "source": [
    "test_x=test_df_cl.drop(['arousal'], axis=1)\n",
    "test_x"
   ]
  },
  {
   "cell_type": "code",
   "execution_count": null,
   "metadata": {},
   "outputs": [],
   "source": [
    "train_y=train_df_cl[\"arousal\"]\n",
    "train_y"
   ]
  },
  {
   "cell_type": "code",
   "execution_count": null,
   "metadata": {},
   "outputs": [],
   "source": [
    "validation_y=validation_df_cl[\"arousal\"]\n",
    "validation_y"
   ]
  },
  {
   "cell_type": "code",
   "execution_count": null,
   "metadata": {},
   "outputs": [],
   "source": [
    "test_y=test_df_cl[\"arousal\"]\n",
    "test_y"
   ]
  },
  {
   "cell_type": "markdown",
   "metadata": {},
   "source": [
    "# 1.3. Standardisation"
   ]
  },
  {
   "cell_type": "code",
   "execution_count": null,
   "metadata": {},
   "outputs": [],
   "source": [
    "from sklearn.preprocessing import StandardScaler\n",
    "scaler=StandardScaler()\n",
    "print(scaler.fit(train_x))\n",
    "print(scaler.transform(train_x))"
   ]
  },
  {
   "cell_type": "code",
   "execution_count": null,
   "metadata": {},
   "outputs": [],
   "source": [
    "from sklearn.preprocessing import StandardScaler\n",
    "scaler=StandardScaler()\n",
    "print(scaler.fit(validation_x))\n",
    "print(scaler.transform(validation_x))"
   ]
  },
  {
   "cell_type": "code",
   "execution_count": null,
   "metadata": {},
   "outputs": [],
   "source": [
    "from sklearn.preprocessing import StandardScaler\n",
    "scaler=StandardScaler()\n",
    "print(scaler.fit(test_x))\n",
    "print(scaler.transform(test_x))"
   ]
  },
  {
   "cell_type": "markdown",
   "metadata": {},
   "source": [
    "# 1.4.Corealation matrix"
   ]
  },
  {
   "cell_type": "code",
   "execution_count": null,
   "metadata": {},
   "outputs": [],
   "source": [
    "sns.set(font_scale=6.5)\n",
    "correlation=train_df.corr()\n",
    "plt.figure(figsize=(250,130))\n",
    "sns.heatmap(correlation, annot=True, fmt='.3f')\n",
    "plt.show()"
   ]
  },
  {
   "cell_type": "code",
   "execution_count": null,
   "metadata": {},
   "outputs": [],
   "source": [
    "\n",
    "sns.set(font_scale=1.4)\n",
    "sns.scatterplot(x=train_df_cl['AI'], y=train_df_cl['GI'], hue=train_df_cl['arousal'])\n"
   ]
  },
  {
   "cell_type": "code",
   "execution_count": null,
   "metadata": {},
   "outputs": [],
   "source": [
    "sns.set(font_scale=1.4)\n",
    "sns.scatterplot(x=train_df_cl['mean_hr'], y=train_df_cl['ibi'], hue=train_df_cl['arousal'])"
   ]
  },
  {
   "cell_type": "code",
   "execution_count": null,
   "metadata": {},
   "outputs": [],
   "source": [
    "sns.set(font_scale=1.4)\n",
    "sns.scatterplot(x=train_df_cl['hti'], y=train_df_cl['samp_ent'], hue=train_df_cl['arousal'])"
   ]
  },
  {
   "cell_type": "code",
   "execution_count": null,
   "metadata": {},
   "outputs": [],
   "source": [
    "sns.set(font_scale=1.4)\n",
    "sns.scatterplot(x=train_df_cl['mean_hr'], y=train_df_cl['sqi_sdnn'], hue=train_df_cl['arousal'])"
   ]
  },
  {
   "cell_type": "code",
   "execution_count": null,
   "metadata": {},
   "outputs": [],
   "source": [
    "sns.set(font_scale=1.4)\n",
    "sns.scatterplot(x=train_df_cl['sdnn'], y=train_df_cl['SDNNa'], hue=train_df_cl['arousal'])"
   ]
  },
  {
   "cell_type": "code",
   "execution_count": null,
   "metadata": {},
   "outputs": [],
   "source": [
    "sns.set(font_scale=1.4)\n",
    "sns.scatterplot(x=train_df_cl['pnn20'], y=train_df_cl['pnn50'], hue=train_df_cl['arousal'])"
   ]
  },
  {
   "cell_type": "code",
   "execution_count": null,
   "metadata": {},
   "outputs": [],
   "source": [
    "sns.set(font_scale=1.4)\n",
    "sns.scatterplot(x=train_df_cl['cvi'], y=train_df_cl['sdnn'], hue=train_df_cl['arousal'])"
   ]
  },
  {
   "cell_type": "code",
   "execution_count": null,
   "metadata": {},
   "outputs": [],
   "source": [
    "sns.set(font_scale=1.4)\n",
    "sns.scatterplot(x=train_df_cl['sdnn'], y=train_df_cl['median_ibi'], hue=train_df_cl['arousal'])"
   ]
  },
  {
   "cell_type": "code",
   "execution_count": null,
   "metadata": {},
   "outputs": [],
   "source": [
    "sns.set(font_scale=1.4)\n",
    "sns.scatterplot(x=train_df_cl['sd1'], y=train_df_cl['SD1d'], hue=train_df_cl['arousal'])"
   ]
  },
  {
   "cell_type": "code",
   "execution_count": null,
   "metadata": {},
   "outputs": [],
   "source": [
    "plt.figure(figsize = (60, 30))\n",
    "ax = sns.boxplot(x='arousal', y='mean_hr', data=train_df_cl)\n",
    "plt.setp(ax.artists, alpha=.5, linewidth=2, edgecolor=\"k\")\n",
    "plt.xticks(rotation=45)"
   ]
  },
  {
   "cell_type": "code",
   "execution_count": null,
   "metadata": {},
   "outputs": [],
   "source": [
    "train_df_cl.hist(figsize=(60, 60), bins=50, xlabelsize=30, ylabelsize=30)"
   ]
  },
  {
   "cell_type": "markdown",
   "metadata": {},
   "source": [
    "# 1.5. Classification Algorithms"
   ]
  },
  {
   "cell_type": "markdown",
   "metadata": {},
   "source": [
    "Dummy Classifier"
   ]
  },
  {
   "cell_type": "code",
   "execution_count": null,
   "metadata": {},
   "outputs": [],
   "source": [
    "dummy_clf = DummyClassifier(strategy=\"uniform\")\n",
    "dummy_clf.fit(train_x, train_y)\n",
    "DummyClassifier(strategy='uniform')\n",
    "dummy_clf.predict(test_x) \n",
    "dummy_clf.score(test_x, test_y)"
   ]
  },
  {
   "cell_type": "code",
   "execution_count": null,
   "metadata": {},
   "outputs": [],
   "source": [
    "\n",
    "from sklearn.feature_selection import mutual_info_classif\n",
    "def predict(classifier, train_x, train_y, test_x):\n",
    "    classifier.fit(train_x, train_y)\n",
    "    predictions = classifier.predict(test_x)\n",
    "    return predictions"
   ]
  },
  {
   "cell_type": "code",
   "execution_count": null,
   "metadata": {},
   "outputs": [],
   "source": [
    "from sklearn.metrics import accuracy_score, confusion_matrix, f1_score\n",
    "def evaluate(test_y, predictions):\n",
    "    cf = confusion_matrix(test_y, predictions, labels = train_y.unique())\n",
    "    fscore = f1_score(predictions, test_y, average='macro')\n",
    "    accuracy = accuracy_score(predictions, test_y)\n",
    "    return cf, fscore, accuracy"
   ]
  },
  {
   "cell_type": "markdown",
   "metadata": {},
   "source": [
    "Decision Tree Classifier"
   ]
  },
  {
   "cell_type": "code",
   "execution_count": null,
   "metadata": {},
   "outputs": [],
   "source": [
    "dt = DecisionTreeClassifier(criterion='entropy', max_depth=2, max_features='sqrt',random_state=18)\n",
    "dt.fit(train_x, train_y)\n",
    "predictions = predict(dt, train_x, train_y, validation_x)\n",
    "cf1, fscore, accuracy = evaluate(validation_y, predictions)\n",
    "print(f\"F1-score: {fscore}\")\n",
    "print(f\"Accuracy: {accuracy}\")\n",
    "f, ax=plt.subplots(figsize=(5,5))\n",
    "sns.heatmap(cf1,annot=True,linewidths=0.5,linecolor=\"red\",fmt=\".0f\",ax=ax)\n",
    "plt.xlabel(\"y_pred\")\n",
    "plt.ylabel(\"y_true\")\n",
    "plt.show()\n"
   ]
  },
  {
   "cell_type": "code",
   "execution_count": null,
   "metadata": {},
   "outputs": [],
   "source": [
    "dt.fit(train_x, train_y)\n",
    "predictions = predict(dt, train_x, train_y, test_x)\n",
    "cf2, fscore, accuracy = evaluate(test_y, predictions)\n",
    "fscore_tree_cl=fscore\n",
    "acc_tree_cl=accuracy\n",
    "print(f\"F1-score: {fscore}\")\n",
    "print(f\"Accuracy: {accuracy}\")\n",
    "f, ax=plt.subplots(figsize=(5,5))\n",
    "sns.heatmap(cf2,annot=True,linewidths=0.5,linecolor=\"red\",fmt=\".0f\",ax=ax)\n",
    "plt.xlabel(\"y_pred\")\n",
    "plt.ylabel(\"y_true\")\n",
    "plt.show()"
   ]
  },
  {
   "cell_type": "markdown",
   "metadata": {},
   "source": [
    "hyper da ne zaboravime"
   ]
  },
  {
   "cell_type": "markdown",
   "metadata": {},
   "source": [
    "Random Forest Classifier"
   ]
  },
  {
   "cell_type": "code",
   "execution_count": null,
   "metadata": {},
   "outputs": [],
   "source": [
    "rf = RandomForestClassifier(criterion='entropy', max_depth=2, max_features='log2',min_samples_leaf=8, n_estimators=6, random_state=20)\n",
    "predictions = predict(rf, train_x, train_y, validation_x)\n",
    "cf3, fscore, accuracy = evaluate(validation_y, predictions)\n",
    "print(f\"F1-score: {fscore}\")\n",
    "print(f\"Accuracy: {accuracy}\")\n",
    "f, ax=plt.subplots(figsize=(5,5))\n",
    "sns.heatmap(cf3,annot=True,linewidths=0.5,linecolor=\"red\",fmt=\".0f\",ax=ax)\n",
    "plt.xlabel(\"y_pred\")\n",
    "plt.ylabel(\"y_true\")\n",
    "plt.show()"
   ]
  },
  {
   "cell_type": "code",
   "execution_count": null,
   "metadata": {},
   "outputs": [],
   "source": [
    "predictions = predict(rf, train_x, train_y, test_x)\n",
    "cf4, fscore, accuracy = evaluate(test_y, predictions)\n",
    "fscore_rf_cl=fscore\n",
    "acc_rf_cl=accuracy\n",
    "print(f\"F1-score: {fscore}\")\n",
    "print(f\"Accuracy: {accuracy}\")\n",
    "f, ax=plt.subplots(figsize=(5,5))\n",
    "sns.heatmap(cf4,annot=True,linewidths=0.5,linecolor=\"red\",fmt=\".0f\",ax=ax)\n",
    "plt.xlabel(\"y_pred\")\n",
    "plt.ylabel(\"y_true\")\n",
    "plt.show()\n"
   ]
  },
  {
   "cell_type": "code",
   "execution_count": null,
   "metadata": {},
   "outputs": [],
   "source": [
    "level_encoder = LabelEncoder()\n",
    "test_y_new = level_encoder.fit_transform(test_y)\n",
    "validation_y_new = level_encoder.fit_transform(validation_y)\n",
    "train_y_new = level_encoder.fit_transform(train_y)"
   ]
  },
  {
   "cell_type": "code",
   "execution_count": null,
   "metadata": {},
   "outputs": [],
   "source": [
    "from sklearn.feature_selection import mutual_info_classif\n",
    "def predict_new(classifier, train_x, train_y_new, test_x):\n",
    "    classifier.fit(train_x, train_y_new)\n",
    "    predictions = classifier.predict(test_x)\n",
    "    return predictions"
   ]
  },
  {
   "cell_type": "code",
   "execution_count": null,
   "metadata": {},
   "outputs": [],
   "source": [
    "def evaluate_new(test_y_new, predictions):\n",
    "    fscore = f1_score(predictions, test_y_new, average='macro')\n",
    "    accuracy = accuracy_score(predictions, test_y_new)\n",
    "    return fscore, accuracy"
   ]
  },
  {
   "cell_type": "markdown",
   "metadata": {},
   "source": [
    "XGB Classifier"
   ]
  },
  {
   "cell_type": "code",
   "execution_count": null,
   "metadata": {},
   "outputs": [],
   "source": [
    "\n",
    "xg = xgb.XGBClassifier(n_estimators = 150, max_depth = 5, learning_rate=0.3, use_label_encoder=False,objective='multi:softmax',eval_metric = 'mlogloss')\n",
    "predictions = predict_new(xg, train_x, train_y_new, validation_x)\n",
    "fscore, accuracy = evaluate_new(validation_y_new, predictions)\n",
    "print(f\"F1-score: {fscore}\")\n",
    "print(f\"Accuracy: {accuracy}\")\n",
    "pred_y = xg.predict(test_x)\n",
    "cm=confusion_matrix(test_y_new,pred_y)\n",
    "f, ax=plt.subplots(figsize=(5,5))\n",
    "sns.heatmap(cm,annot=True,linewidths=0.5,linecolor=\"red\",fmt=\".0f\",ax=ax)\n",
    "plt.xlabel(\"y_pred\")\n",
    "plt.ylabel(\"y_true\")\n",
    "plt.show()"
   ]
  },
  {
   "cell_type": "code",
   "execution_count": null,
   "metadata": {},
   "outputs": [],
   "source": [
    "\n",
    "predictions = predict_new(xg, train_x, train_y_new, test_x)\n",
    "fscore, accuracy = evaluate_new(test_y_new, predictions)\n",
    "fscore_xgb_cl=fscore\n",
    "acc_xgb_cl=accuracy\n",
    "print(f\"F1-score: {fscore}\")\n",
    "print(f\"Accuracy: {accuracy}\")\n",
    "pred1_y = xg.predict(test_x)\n",
    "cm1=confusion_matrix(test_y_new,pred1_y)\n",
    "f, ax=plt.subplots(figsize=(5,5))\n",
    "sns.heatmap(cm1,annot=True,linewidths=0.5,linecolor=\"red\",fmt=\".0f\",ax=ax)\n",
    "plt.xlabel(\"y_pred\")\n",
    "plt.ylabel(\"y_true\")\n",
    "plt.show()"
   ]
  },
  {
   "cell_type": "markdown",
   "metadata": {},
   "source": [
    "AdaBoost Classifier"
   ]
  },
  {
   "cell_type": "code",
   "execution_count": null,
   "metadata": {},
   "outputs": [],
   "source": [
    "ada = AdaBoostClassifier(n_estimators=1500, random_state=10)\n",
    "predictions = predict_new(ada, train_x, train_y_new, validation_x)\n",
    "fscore, accuracy = evaluate_new(validation_y_new, predictions)\n",
    "print(f\"F1-score: {fscore}\")\n",
    "print(f\"Accuracy: {accuracy}\")\n",
    "pred2_y = ada.predict(test_x)\n",
    "cm2=confusion_matrix(test_y_new,pred2_y)\n",
    "f, ax=plt.subplots(figsize=(5,5))\n",
    "sns.heatmap(cm2,annot=True,linewidths=0.5,linecolor=\"red\",fmt=\".0f\",ax=ax)\n",
    "plt.xlabel(\"y_pred\")\n",
    "plt.ylabel(\"y_true\")\n",
    "plt.show()"
   ]
  },
  {
   "cell_type": "code",
   "execution_count": null,
   "metadata": {},
   "outputs": [],
   "source": [
    "\n",
    "predictions = predict_new(ada, train_x, train_y_new, test_x)\n",
    "fscore, accuracy = evaluate_new(test_y_new, predictions)\n",
    "fscore_ada_cl=fscore\n",
    "acc_ada_cl=accuracy\n",
    "print(f\"F1-score: {fscore}\")\n",
    "print(f\"Accuracy: {accuracy}\")\n",
    "pred3_y = ada.predict(test_x)\n",
    "cm3=confusion_matrix(test_y_new,pred3_y)\n",
    "f, ax=plt.subplots(figsize=(5,5))\n",
    "sns.heatmap(cm3,annot=True,linewidths=0.5,linecolor=\"red\",fmt=\".0f\",ax=ax)\n",
    "plt.xlabel(\"y_pred\")\n",
    "plt.ylabel(\"y_true\")\n",
    "plt.show()"
   ]
  },
  {
   "cell_type": "markdown",
   "metadata": {},
   "source": [
    "Suport Vector Machine"
   ]
  },
  {
   "cell_type": "code",
   "execution_count": null,
   "metadata": {},
   "outputs": [],
   "source": [
    "svc = svm.SVC(gamma=0.001)\n",
    "predictions = predict(svc, train_x, train_y, validation_x)\n",
    "cf5, fscore, accuracy = evaluate(validation_y, predictions)\n",
    "print(f\"F1-score: {fscore}\")\n",
    "print(f\"Accuracy: {accuracy}\")\n",
    "f, ax=plt.subplots(figsize=(5,5))\n",
    "sns.heatmap(cf5,annot=True,linewidths=0.5,linecolor=\"red\",fmt=\".0f\",ax=ax)\n",
    "plt.xlabel(\"y_pred\")\n",
    "plt.ylabel(\"y_true\")\n",
    "plt.show()\n"
   ]
  },
  {
   "cell_type": "code",
   "execution_count": null,
   "metadata": {},
   "outputs": [],
   "source": [
    "predictions = predict(svc, train_x, train_y, test_x)\n",
    "cf6, fscore, accuracy = evaluate(test_y, predictions)\n",
    "fscore_svc_cl=fscore\n",
    "acc_svc_cl=accuracy\n",
    "print(f\"F1-score: {fscore}\")\n",
    "print(f\"Accuracy: {accuracy}\")\n",
    "f, ax=plt.subplots(figsize=(5,5))\n",
    "sns.heatmap(cf6,annot=True,linewidths=0.5,linecolor=\"red\",fmt=\".0f\",ax=ax)\n",
    "plt.xlabel(\"y_pred\")\n",
    "plt.ylabel(\"y_true\")\n",
    "plt.show()"
   ]
  },
  {
   "cell_type": "code",
   "execution_count": null,
   "metadata": {},
   "outputs": [],
   "source": [
    "data_cl = {'Metric':  ['Accuracy','Fscore'],\n",
    "        'RandomForest': [acc_rf_cl,fscore_rf_cl],\n",
    "        'Decision Tree': [acc_tree_cl,fscore_tree_cl],\n",
    "        'SVM': [acc_svc_cl,fscore_svc_cl],\n",
    "        'AdaBoost' :[acc_ada_cl,fscore_ada_cl],\n",
    "        'XGB':[acc_xgb_cl,fscore_xgb_cl],\n",
    "        \n",
    "        }\n",
    "comparison_cl = pd.DataFrame (data_cl, columns = ['Metric','RandomForest','Decision Tree', 'SVM','AdaBoost','XGB'])\n",
    "comparison_cl"
   ]
  },
  {
   "cell_type": "markdown",
   "metadata": {},
   "source": [
    "# 2. Baseline Normalisation"
   ]
  },
  {
   "cell_type": "markdown",
   "metadata": {},
   "source": [
    "# 2.1 Load data"
   ]
  },
  {
   "cell_type": "code",
   "execution_count": null,
   "metadata": {},
   "outputs": [],
   "source": [
    "train_b=pd.read_csv('C:\\\\Users\\\\Ivona\\\\Desktop\\\\Arousal\\\\Arousal baseline\\\\TRAIN_.CSV')\n",
    "train_b"
   ]
  },
  {
   "cell_type": "code",
   "execution_count": null,
   "metadata": {},
   "outputs": [],
   "source": [
    "del train_b['video']\n",
    "del train_b['valence']\n",
    "train_b.dropna(axis=0, inplace=True, subset=['arousal'])\n",
    "train_b"
   ]
  },
  {
   "cell_type": "code",
   "execution_count": null,
   "metadata": {},
   "outputs": [],
   "source": [
    "train_b_cl=train_b.replace({'arousal': {1.0:'low',2.0:'low',3.0:'low',4.0:'medium',5.0:'medium',6.0:'medium',7.0: 'high', 8.0: 'high',9.0:'high'}})\n",
    "train_b_cl"
   ]
  },
  {
   "cell_type": "code",
   "execution_count": null,
   "metadata": {},
   "outputs": [],
   "source": [
    "validation_b=pd.read_csv('C:\\\\Users\\\\Ivona\\\\Desktop\\\\Arousal\\\\Arousal baseline\\\\VALIDATION_.CSV')\n",
    "validation_b"
   ]
  },
  {
   "cell_type": "code",
   "execution_count": null,
   "metadata": {},
   "outputs": [],
   "source": [
    "del validation_b['video']\n",
    "del validation_b['valence']\n",
    "validation_b.dropna(axis=0, inplace=True, subset=['arousal'])\n",
    "validation_b"
   ]
  },
  {
   "cell_type": "code",
   "execution_count": null,
   "metadata": {},
   "outputs": [],
   "source": [
    "validation_b_cl=validation_b.replace({'arousal': {1.0:'low',2.0:'low',3.0:'low',4.0:'medium',5.0:'medium',6.0:'medium',7.0: 'high', 8.0: 'high',9.0:'high'}})\n",
    "validation_b_cl"
   ]
  },
  {
   "cell_type": "code",
   "execution_count": null,
   "metadata": {},
   "outputs": [],
   "source": [
    "test_b=pd.read_csv('C:\\\\Users\\\\Ivona\\\\Desktop\\\\Arousal\\\\Arousal baseline\\\\TEST_.CSV')\n",
    "test_b"
   ]
  },
  {
   "cell_type": "code",
   "execution_count": null,
   "metadata": {},
   "outputs": [],
   "source": [
    "del test_b['video']\n",
    "del test_b['valence']\n",
    "test_b.dropna(axis=0, inplace=True, subset=['arousal'])\n",
    "test_b"
   ]
  },
  {
   "cell_type": "code",
   "execution_count": null,
   "metadata": {},
   "outputs": [],
   "source": [
    "test_b_cl=test_b.replace({'arousal': {1.0:'low',2.0:'low',3.0:'low',4.0:'medium',5.0:'medium',6.0:'medium',7.0: 'high', 8.0: 'high',9.0:'high'}})\n",
    "test_b_cl"
   ]
  },
  {
   "cell_type": "code",
   "execution_count": null,
   "metadata": {},
   "outputs": [],
   "source": [
    "train_x_b=train_b_cl.drop(['arousal'], axis=1)\n",
    "train_x_b"
   ]
  },
  {
   "cell_type": "code",
   "execution_count": null,
   "metadata": {},
   "outputs": [],
   "source": [
    "validation_x_b=validation_b_cl.drop(['arousal'], axis=1)\n",
    "validation_x_b"
   ]
  },
  {
   "cell_type": "code",
   "execution_count": null,
   "metadata": {},
   "outputs": [],
   "source": [
    "test_x_b=test_b_cl.drop(['arousal'], axis=1)\n",
    "test_x_b\n"
   ]
  },
  {
   "cell_type": "code",
   "execution_count": null,
   "metadata": {},
   "outputs": [],
   "source": [
    "train_y_b=train_b_cl[\"arousal\"]\n",
    "train_y_b"
   ]
  },
  {
   "cell_type": "code",
   "execution_count": null,
   "metadata": {},
   "outputs": [],
   "source": [
    "validation_y_b=validation_b_cl[\"arousal\"]\n",
    "validation_y_b"
   ]
  },
  {
   "cell_type": "code",
   "execution_count": null,
   "metadata": {},
   "outputs": [],
   "source": [
    "test_y_b=test_b_cl[\"arousal\"]\n",
    "test_y_b\n"
   ]
  },
  {
   "cell_type": "markdown",
   "metadata": {},
   "source": [
    "# 2.2 Data visualisation"
   ]
  },
  {
   "cell_type": "code",
   "execution_count": null,
   "metadata": {},
   "outputs": [],
   "source": [
    "def get_percentage_cnt(df, col):   \n",
    "    t1 = pd.DataFrame(df.groupby(col)[col].count().rename('cnt%'))\n",
    "    t1.reset_index(inplace=True)\n",
    "    t1['cnt%'] = round((t1['cnt%'] * 100) / t1['cnt%'].sum(),2)\n",
    "    return t1\n",
    "def myplot(x, y, df):\n",
    "    ax = sns.barplot(x=x, y=y, data=df)\n",
    "    for p in ax.patches:\n",
    "        ax.annotate('{0:.1f}%'.format(p.get_height()), (p.get_x()+0.1, p.get_height()))"
   ]
  },
  {
   "cell_type": "code",
   "execution_count": null,
   "metadata": {},
   "outputs": [],
   "source": [
    "plt.figure(figsize=(25,5))\n",
    "dual_categories = ['arousal']\n",
    "plt_cnt = 1;\n",
    "for feature in dual_categories:\n",
    "    plt.subplot(1,2,plt_cnt)\n",
    "    tempdf = get_percentage_cnt(train_b_cl, feature)\n",
    "    myplot(feature, 'cnt%', tempdf)\n",
    "    plt_cnt += 1\n",
    "plt.show()"
   ]
  },
  {
   "cell_type": "code",
   "execution_count": null,
   "metadata": {},
   "outputs": [],
   "source": [
    "plt.figure(figsize=(25,5))\n",
    "dual_categories = ['arousal']\n",
    "plt_cnt = 1;\n",
    "for feature in dual_categories:\n",
    "    plt.subplot(1,2,plt_cnt)\n",
    "    tempdf = get_percentage_cnt(validation_b_cl, feature)\n",
    "    myplot(feature, 'cnt%', tempdf)\n",
    "    plt_cnt += 1\n",
    "plt.show()"
   ]
  },
  {
   "cell_type": "code",
   "execution_count": null,
   "metadata": {},
   "outputs": [],
   "source": [
    "plt.figure(figsize=(25,5))\n",
    "\n",
    "dual_categories = ['arousal']\n",
    "\n",
    "plt_cnt = 1;\n",
    "for feature in dual_categories:\n",
    "    plt.subplot(1,2,plt_cnt)\n",
    "    tempdf = get_percentage_cnt(test_b_cl, feature)\n",
    "    myplot(feature, 'cnt%', tempdf)\n",
    "    plt_cnt += 1\n",
    "\n",
    "plt.show()"
   ]
  },
  {
   "cell_type": "markdown",
   "metadata": {},
   "source": [
    "# 2.3. Standardisation"
   ]
  },
  {
   "cell_type": "code",
   "execution_count": null,
   "metadata": {},
   "outputs": [],
   "source": [
    "from sklearn.preprocessing import StandardScaler\n",
    "scaler=StandardScaler()\n",
    "print(scaler.fit(train_x_b))\n",
    "print(scaler.transform(train_x_b))"
   ]
  },
  {
   "cell_type": "code",
   "execution_count": null,
   "metadata": {},
   "outputs": [],
   "source": [
    "from sklearn.preprocessing import StandardScaler\n",
    "scaler=StandardScaler()\n",
    "print(scaler.fit(validation_x_b))\n",
    "print(scaler.transform(validation_x_b))"
   ]
  },
  {
   "cell_type": "code",
   "execution_count": null,
   "metadata": {},
   "outputs": [],
   "source": [
    "from sklearn.preprocessing import StandardScaler\n",
    "scaler=StandardScaler()\n",
    "print(scaler.fit(test_x_b))\n",
    "print(scaler.transform(test_x_b))"
   ]
  },
  {
   "cell_type": "markdown",
   "metadata": {},
   "source": [
    "# 2.4.Corealation matrix"
   ]
  },
  {
   "cell_type": "code",
   "execution_count": null,
   "metadata": {},
   "outputs": [],
   "source": [
    "sns.set(font_scale=6.5)\n",
    "correlation=train_b.corr()\n",
    "plt.figure(figsize=(250,130))\n",
    "sns.heatmap(correlation, annot=True, fmt='.3f')\n",
    "plt.show()"
   ]
  },
  {
   "cell_type": "code",
   "execution_count": null,
   "metadata": {},
   "outputs": [],
   "source": [
    "sns.set(font_scale=1.4)\n",
    "sns.scatterplot(x=train_b_cl['AI'], y=train_b_cl['GI'], hue=train_b_cl['arousal'])"
   ]
  },
  {
   "cell_type": "code",
   "execution_count": null,
   "metadata": {},
   "outputs": [],
   "source": [
    "sns.set(font_scale=1.4)\n",
    "sns.scatterplot(x=train_b_cl['mean_hr'], y=train_b_cl['ibi'], hue=train_b_cl['arousal'])"
   ]
  },
  {
   "cell_type": "code",
   "execution_count": null,
   "metadata": {},
   "outputs": [],
   "source": [
    "sns.set(font_scale=1.4)\n",
    "sns.scatterplot(x=train_b_cl['hti'], y=train_b_cl['samp_ent'], hue=train_b_cl['arousal'])"
   ]
  },
  {
   "cell_type": "code",
   "execution_count": null,
   "metadata": {},
   "outputs": [],
   "source": [
    "sns.set(font_scale=1.4)\n",
    "sns.scatterplot(x=train_b_cl['mean_hr'], y=train_b_cl['sqi_sdnn'], hue=train_b_cl['arousal'])"
   ]
  },
  {
   "cell_type": "code",
   "execution_count": null,
   "metadata": {},
   "outputs": [],
   "source": [
    "\n",
    "sns.set(font_scale=1.4)\n",
    "sns.scatterplot(x=train_b_cl['sdnn'], y=train_b_cl['SDNNa'], hue=train_b_cl['arousal'])"
   ]
  },
  {
   "cell_type": "code",
   "execution_count": null,
   "metadata": {},
   "outputs": [],
   "source": [
    "sns.set(font_scale=1.4)\n",
    "sns.scatterplot(x=train_b_cl['pnn20'], y=train_b_cl['pnn50'], hue=train_b_cl['arousal'])"
   ]
  },
  {
   "cell_type": "code",
   "execution_count": null,
   "metadata": {},
   "outputs": [],
   "source": [
    "sns.set(font_scale=1.4)\n",
    "sns.scatterplot(x=train_b_cl['cvi'], y=train_b_cl['sdnn'], hue=train_b_cl['arousal'])"
   ]
  },
  {
   "cell_type": "code",
   "execution_count": null,
   "metadata": {},
   "outputs": [],
   "source": [
    "sns.set(font_scale=1.4)\n",
    "sns.scatterplot(x=train_b_cl['sdnn'], y=train_b_cl['median_ibi'], hue=train_b_cl['arousal'])"
   ]
  },
  {
   "cell_type": "code",
   "execution_count": null,
   "metadata": {},
   "outputs": [],
   "source": [
    "sns.set(font_scale=1.4)\n",
    "sns.scatterplot(x=train_b_cl['sd1'], y=train_b_cl['SD1d'], hue=train_b_cl['arousal'])"
   ]
  },
  {
   "cell_type": "code",
   "execution_count": null,
   "metadata": {},
   "outputs": [],
   "source": [
    "plt.figure(figsize = (60, 30))\n",
    "ax = sns.boxplot(x='arousal', y='mean_hr', data=train_b_cl)\n",
    "plt.setp(ax.artists, alpha=.5, linewidth=2, edgecolor=\"k\")\n",
    "plt.xticks(rotation=45)"
   ]
  },
  {
   "cell_type": "code",
   "execution_count": null,
   "metadata": {},
   "outputs": [],
   "source": [
    "train_b_cl.hist(figsize=(50, 50), bins=50, xlabelsize=30, ylabelsize=30)"
   ]
  },
  {
   "cell_type": "markdown",
   "metadata": {},
   "source": [
    "# 2.5. Classification Algorithms"
   ]
  },
  {
   "cell_type": "markdown",
   "metadata": {},
   "source": [
    "Dummy Classifier"
   ]
  },
  {
   "cell_type": "code",
   "execution_count": null,
   "metadata": {},
   "outputs": [],
   "source": [
    "dummy_clf = DummyClassifier(strategy=\"uniform\")\n",
    "dummy_clf.fit(train_x_b, train_y_b)\n",
    "DummyClassifier(strategy='uniform')\n",
    "dummy_clf.predict(test_x_b) \n",
    "dummy_clf.score(test_x_b, test_y_b)\n"
   ]
  },
  {
   "cell_type": "markdown",
   "metadata": {},
   "source": [
    "Decision Tree Classifier"
   ]
  },
  {
   "cell_type": "code",
   "execution_count": null,
   "metadata": {},
   "outputs": [],
   "source": [
    "dt = DecisionTreeClassifier(random_state=1,max_depth=5)\n",
    "dt.fit(train_x_b, train_y_b)\n",
    "predictions = predict(dt, train_x_b, train_y_b, validation_x_b)\n",
    "cf, fscore, accuracy = evaluate(validation_y_b, predictions)\n",
    "print(f\"F1-score: {fscore}\")\n",
    "print(f\"Accuracy: {accuracy}\")\n",
    "f, ax=plt.subplots(figsize=(5,5))\n",
    "sns.heatmap(cf,annot=True,linewidths=0.5,linecolor=\"red\",fmt=\".0f\",ax=ax)\n",
    "plt.xlabel(\"y_pred\")\n",
    "plt.ylabel(\"y_true\")\n",
    "plt.show()"
   ]
  },
  {
   "cell_type": "code",
   "execution_count": null,
   "metadata": {},
   "outputs": [],
   "source": [
    "dt.fit(train_x_b, train_y_b)\n",
    "predictions = predict(dt, train_x_b, train_y_b, test_x_b)\n",
    "cf, fscore, accuracy = evaluate(test_y_b, predictions)\n",
    "fscore_tree_b=fscore\n",
    "acc_tree_b=accuracy\n",
    "print(f\"F1-score: {fscore}\")\n",
    "print(f\"Accuracy: {accuracy}\")\n",
    "f, ax=plt.subplots(figsize=(5,5))\n",
    "sns.heatmap(cf,annot=True,linewidths=0.5,linecolor=\"red\",fmt=\".0f\",ax=ax)\n",
    "plt.xlabel(\"y_pred\")\n",
    "plt.ylabel(\"y_true\")\n",
    "plt.show()"
   ]
  },
  {
   "cell_type": "markdown",
   "metadata": {},
   "source": [
    "Random Forest Classifier"
   ]
  },
  {
   "cell_type": "code",
   "execution_count": null,
   "metadata": {},
   "outputs": [],
   "source": [
    "rf = RandomForestClassifier(random_state=2,n_estimators=100,min_samples_split=3)\n",
    "predictions = predict(rf, train_x_b, train_y_b, validation_x_b)\n",
    "cf, fscore, accuracy = evaluate(validation_y_b, predictions)\n",
    "print(f\"F1-score: {fscore}\")\n",
    "print(f\"Accuracy: {accuracy}\")\n",
    "f, ax=plt.subplots(figsize=(5,5))\n",
    "sns.heatmap(cf,annot=True,linewidths=0.5,linecolor=\"red\",fmt=\".0f\",ax=ax)\n",
    "plt.xlabel(\"y_pred\")\n",
    "plt.ylabel(\"y_true\")\n",
    "plt.show()"
   ]
  },
  {
   "cell_type": "code",
   "execution_count": null,
   "metadata": {},
   "outputs": [],
   "source": [
    "predictions = predict(rf, train_x_b, train_y_b, test_x_b)\n",
    "cf4, fscore, accuracy = evaluate(test_y_b, predictions)\n",
    "fscore_rf_b=fscore\n",
    "acc_rf_b=accuracy\n",
    "print(f\"F1-score: {fscore}\")\n",
    "print(f\"Accuracy: {accuracy}\")\n",
    "f, ax=plt.subplots(figsize=(5,5))\n",
    "sns.heatmap(cf4,annot=True,linewidths=0.5,linecolor=\"red\",fmt=\".0f\",ax=ax)\n",
    "plt.xlabel(\"y_pred\")\n",
    "plt.ylabel(\"y_true\")\n",
    "plt.show()"
   ]
  },
  {
   "cell_type": "code",
   "execution_count": null,
   "metadata": {},
   "outputs": [],
   "source": [
    "\n",
    "level_encoder = LabelEncoder()\n",
    "test_y_new_b = level_encoder.fit_transform(test_y_b)\n",
    "validation_y_new_b = level_encoder.fit_transform(validation_y_b)\n",
    "train_y_new_b = level_encoder.fit_transform(train_y_b)"
   ]
  },
  {
   "cell_type": "markdown",
   "metadata": {},
   "source": [
    "XGB Classifier"
   ]
  },
  {
   "cell_type": "code",
   "execution_count": null,
   "metadata": {},
   "outputs": [],
   "source": [
    "xg = xgb.XGBClassifier(n_estimators = 300, max_depth = 3, learning_rate=0.3, use_label_encoder=False,objective='multi:softmax',eval_metric = 'mlogloss')\n",
    "predictions = predict_new(xg, train_x_b, train_y_new_b, validation_x_b)\n",
    "fscore, accuracy = evaluate_new(validation_y_new_b, predictions)\n",
    "print(f\"F1-score: {fscore}\")\n",
    "print(f\"Accuracy: {accuracy}\")\n",
    "f, ax=plt.subplots(figsize=(5,5))\n",
    "sns.heatmap(cf,annot=True,linewidths=0.5,linecolor=\"red\",fmt=\".0f\",ax=ax)\n",
    "plt.xlabel(\"y_pred\")\n",
    "plt.ylabel(\"y_true\")\n",
    "plt.show()"
   ]
  },
  {
   "cell_type": "code",
   "execution_count": null,
   "metadata": {},
   "outputs": [],
   "source": [
    "predictions = predict_new(xg, train_x_b, train_y_new_b, test_x_b)\n",
    "fscore, accuracy = evaluate_new(test_y_new_b, predictions)\n",
    "fscore_xgb_b=fscore\n",
    "acc_xgb_b=accuracy\n",
    "print(f\"F1-score: {fscore}\")\n",
    "print(f\"Accuracy: {accuracy}\")\n",
    "f, ax=plt.subplots(figsize=(5,5))\n",
    "sns.heatmap(cf,annot=True,linewidths=0.5,linecolor=\"red\",fmt=\".0f\",ax=ax)\n",
    "plt.xlabel(\"y_pred\")\n",
    "plt.ylabel(\"y_true\")\n",
    "plt.show()"
   ]
  },
  {
   "cell_type": "markdown",
   "metadata": {},
   "source": [
    "AdaBoost Classifier"
   ]
  },
  {
   "cell_type": "code",
   "execution_count": null,
   "metadata": {},
   "outputs": [],
   "source": [
    "ada = AdaBoostClassifier(n_estimators=1300, random_state=2)\n",
    "predictions = predict_new(ada, train_x_b, train_y_new_b, validation_x_b)\n",
    "fscore, accuracy = evaluate_new(validation_y_new_b, predictions)\n",
    "print(f\"F1-score: {fscore}\")\n",
    "print(f\"Accuracy: {accuracy}\")\n",
    "pred2_y = ada.predict(test_x_b)\n",
    "cm2=confusion_matrix(test_y_new_b,pred2_y)\n",
    "f, ax=plt.subplots(figsize=(5,5))\n",
    "sns.heatmap(cm2,annot=True,linewidths=0.5,linecolor=\"red\",fmt=\".0f\",ax=ax)\n",
    "plt.xlabel(\"y_pred\")\n",
    "plt.ylabel(\"y_true\")\n",
    "plt.show()"
   ]
  },
  {
   "cell_type": "code",
   "execution_count": null,
   "metadata": {},
   "outputs": [],
   "source": [
    "predictions = predict_new(ada, train_x_b, train_y_new_b, test_x_b)\n",
    "fscore, accuracy = evaluate_new(test_y_new_b, predictions)\n",
    "fscore_ada_b=fscore\n",
    "acc_ada_b=accuracy\n",
    "print(f\"F1-score: {fscore}\")\n",
    "print(f\"Accuracy: {accuracy}\")\n",
    "pred3_y = ada.predict(test_x_b)\n",
    "cm3=confusion_matrix(test_y_new_b,pred3_y)\n",
    "f, ax=plt.subplots(figsize=(5,5))\n",
    "sns.heatmap(cm3,annot=True,linewidths=0.5,linecolor=\"red\",fmt=\".0f\",ax=ax)\n",
    "plt.xlabel(\"y_pred\")\n",
    "plt.ylabel(\"y_true\")\n",
    "plt.show()"
   ]
  },
  {
   "cell_type": "markdown",
   "metadata": {},
   "source": [
    "Suport Vector Machine"
   ]
  },
  {
   "cell_type": "code",
   "execution_count": null,
   "metadata": {},
   "outputs": [],
   "source": [
    "svc = svm.SVC( tol=0.1)\n",
    "predictions = predict(svc, train_x_b, train_y_b, validation_x_b)\n",
    "cf5, fscore, accuracy = evaluate(validation_y_b, predictions)\n",
    "print(f\"F1-score: {fscore}\")\n",
    "print(f\"Accuracy: {accuracy}\")\n",
    "f, ax=plt.subplots(figsize=(5,5))\n",
    "sns.heatmap(cf5,annot=True,linewidths=0.5,linecolor=\"red\",fmt=\".0f\",ax=ax)\n",
    "plt.xlabel(\"y_pred\")\n",
    "plt.ylabel(\"y_true\")\n",
    "plt.show()"
   ]
  },
  {
   "cell_type": "code",
   "execution_count": null,
   "metadata": {},
   "outputs": [],
   "source": [
    "predictions = predict(svc, train_x_b, train_y_b, test_x_b)\n",
    "cf6, fscore, accuracy = evaluate(test_y, predictions)\n",
    "fscore_svc_b=fscore\n",
    "acc_svc_b=accuracy\n",
    "print(f\"F1-score: {fscore}\")\n",
    "print(f\"Accuracy: {accuracy}\")\n",
    "f, ax=plt.subplots(figsize=(5,5))\n",
    "sns.heatmap(cf6,annot=True,linewidths=0.5,linecolor=\"red\",fmt=\".0f\",ax=ax)\n",
    "plt.xlabel(\"y_pred\")\n",
    "plt.ylabel(\"y_true\")\n",
    "plt.show()"
   ]
  },
  {
   "cell_type": "code",
   "execution_count": null,
   "metadata": {},
   "outputs": [],
   "source": [
    "data_b = {'Metric':  ['Accuracy','Fscore'],\n",
    "        'RandomForest': [acc_rf_b,fscore_rf_b],\n",
    "        'Decision Tree': [acc_tree_b,fscore_tree_b],\n",
    "        'SVM': [acc_svc_b,fscore_svc_b],\n",
    "        'AdaBoost' :[acc_ada_b,fscore_ada_b],\n",
    "        'XGB':[acc_xgb_b,fscore_xgb_b],\n",
    "        \n",
    "        }\n",
    "comparison_b = pd.DataFrame (data_b, columns = ['Metric','RandomForest','Decision Tree', 'SVM','AdaBoost','XGB'])\n",
    "comparison_b"
   ]
  },
  {
   "cell_type": "markdown",
   "metadata": {},
   "source": [
    "# 3. MinMax normalisation"
   ]
  },
  {
   "cell_type": "markdown",
   "metadata": {},
   "source": [
    "# 3.1. Data Load"
   ]
  },
  {
   "cell_type": "code",
   "execution_count": null,
   "metadata": {},
   "outputs": [],
   "source": [
    "train_df_n=pd.read_csv('C:\\\\Users\\\\Ivona\\\\Desktop\\\\Arousal\\\\Arousal MinMAx\\\\_TRAIN.CSV')\n",
    "train_df_n"
   ]
  },
  {
   "cell_type": "code",
   "execution_count": null,
   "metadata": {},
   "outputs": [],
   "source": [
    "validation_df_n=pd.read_csv('C:\\\\Users\\\\Ivona\\\\Desktop\\\\Arousal\\\\Arousal MinMAx\\\\_VALIDATION.CSV')\n",
    "validation_df_n"
   ]
  },
  {
   "cell_type": "code",
   "execution_count": null,
   "metadata": {},
   "outputs": [],
   "source": [
    "test_df_n=pd.read_csv('C:\\\\Users\\\\Ivona\\\\Desktop\\\\Arousal\\\\Arousal MinMAx\\\\TEST_.CSV')\n",
    "test_df_n"
   ]
  },
  {
   "cell_type": "code",
   "execution_count": null,
   "metadata": {},
   "outputs": [],
   "source": [
    "del train_df_n['video']\n",
    "del train_df_n['valence']\n",
    "del train_df_n['median_diff']\n",
    "del train_df_n['sqi_sdnn']\n",
    "del train_df_n['IMU_filter_quality']\n",
    "train_df_n.dropna(axis=0, inplace=True, subset=['arousal'])\n",
    "train_df_n"
   ]
  },
  {
   "cell_type": "code",
   "execution_count": null,
   "metadata": {},
   "outputs": [],
   "source": [
    "del validation_df_n['video']\n",
    "del validation_df_n['valence']\n",
    "del validation_df_n['median_diff']\n",
    "del validation_df_n['sqi_sdnn']\n",
    "del validation_df_n['IMU_filter_quality']\n",
    "validation_df_n.dropna(axis=0, inplace=True, subset=['arousal'])\n",
    "validation_df_n"
   ]
  },
  {
   "cell_type": "code",
   "execution_count": null,
   "metadata": {},
   "outputs": [],
   "source": [
    "del test_df_n['video']\n",
    "del test_df_n['valence']\n",
    "del test_df_n['median_diff']\n",
    "del test_df_n['sqi_sdnn']\n",
    "del test_df_n['IMU_filter_quality']\n",
    "test_df_n.dropna(axis=0, inplace=True, subset=['arousal'])\n",
    "test_df_n"
   ]
  },
  {
   "cell_type": "code",
   "execution_count": null,
   "metadata": {},
   "outputs": [],
   "source": [
    "train_n_cl=train_df_n.replace({'arousal': {1.0:'low',2.0:'low',3.0:'low',4.0:'medium',5.0:'medium',6.0:'medium',7.0: 'high', 8.0: 'high',9.0:'high'}})\n",
    "train_n_cl"
   ]
  },
  {
   "cell_type": "code",
   "execution_count": null,
   "metadata": {},
   "outputs": [],
   "source": [
    "validation_n_cl=validation_df_n.replace({'arousal': {1.0:'low',2.0:'low',3.0:'low',4.0:'medium',5.0:'medium',6.0:'medium',7.0: 'high', 8.0: 'high',9.0:'high'}})\n",
    "validation_n_cl"
   ]
  },
  {
   "cell_type": "code",
   "execution_count": null,
   "metadata": {},
   "outputs": [],
   "source": [
    "test_n_cl=test_df_n.replace({'arousal': {1.0:'low',2.0:'low',3.0:'low',4.0:'medium',5.0:'medium',6.0:'medium',7.0: 'high', 8.0: 'high',9.0:'high'}})\n",
    "test_n_cl"
   ]
  },
  {
   "cell_type": "code",
   "execution_count": null,
   "metadata": {},
   "outputs": [],
   "source": [
    "train_x_n=train_n_cl.drop(['arousal'], axis=1)\n",
    "train_x_n"
   ]
  },
  {
   "cell_type": "code",
   "execution_count": null,
   "metadata": {},
   "outputs": [],
   "source": [
    "validation_x_n=validation_n_cl.drop(['arousal'], axis=1)\n",
    "validation_x_n"
   ]
  },
  {
   "cell_type": "code",
   "execution_count": null,
   "metadata": {},
   "outputs": [],
   "source": [
    "test_x_n=test_n_cl.drop(['arousal'], axis=1)\n",
    "test_x_n"
   ]
  },
  {
   "cell_type": "code",
   "execution_count": null,
   "metadata": {},
   "outputs": [],
   "source": [
    "train_x_n.describe()"
   ]
  },
  {
   "cell_type": "code",
   "execution_count": null,
   "metadata": {},
   "outputs": [],
   "source": [
    "train_y_n=train_n_cl[\"arousal\"]\n",
    "train_y_n"
   ]
  },
  {
   "cell_type": "code",
   "execution_count": null,
   "metadata": {},
   "outputs": [],
   "source": [
    "validation_y_n=validation_n_cl[\"arousal\"]\n",
    "validation_y_n"
   ]
  },
  {
   "cell_type": "code",
   "execution_count": null,
   "metadata": {},
   "outputs": [],
   "source": [
    "test_y_n=test_n_cl[\"arousal\"]\n",
    "test_y_n"
   ]
  },
  {
   "cell_type": "markdown",
   "metadata": {},
   "source": [
    "# 3.2. Correlation Matrix"
   ]
  },
  {
   "cell_type": "code",
   "execution_count": null,
   "metadata": {},
   "outputs": [],
   "source": [
    "sns.set(font_scale=6.5)\n",
    "correlation=train_n_cl.corr()\n",
    "plt.figure(figsize=(250,130))\n",
    "sns.heatmap(correlation, annot=True, fmt='.3f')\n",
    "plt.show()"
   ]
  },
  {
   "cell_type": "markdown",
   "metadata": {},
   "source": [
    "# 3.3. Data Visualisation"
   ]
  },
  {
   "cell_type": "code",
   "execution_count": null,
   "metadata": {},
   "outputs": [],
   "source": [
    "plt.figure(figsize = (60, 30))\n",
    "ax = sns.boxplot(x='arousal', y='mean_hr', data=train_n_cl)\n",
    "plt.setp(ax.artists, alpha=.5, linewidth=2, edgecolor=\"k\")\n",
    "plt.xticks(rotation=45)"
   ]
  },
  {
   "cell_type": "code",
   "execution_count": null,
   "metadata": {},
   "outputs": [],
   "source": [
    "sns.set(font_scale=1.4)\n",
    "sns.scatterplot(x=train_n_cl['AI'], y=train_n_cl['GI'], hue=train_n_cl['arousal'])"
   ]
  },
  {
   "cell_type": "code",
   "execution_count": null,
   "metadata": {},
   "outputs": [],
   "source": [
    "sns.set(font_scale=1.4)\n",
    "sns.scatterplot(x=train_n_cl['mean_hr'], y=train_n_cl['ibi'], hue=train_n_cl['arousal'])"
   ]
  },
  {
   "cell_type": "code",
   "execution_count": null,
   "metadata": {},
   "outputs": [],
   "source": [
    "sns.set(font_scale=1.4)\n",
    "sns.scatterplot(x=train_n_cl['hti'], y=train_n_cl['samp_ent'], hue=train_n_cl['arousal'])"
   ]
  },
  {
   "cell_type": "code",
   "execution_count": null,
   "metadata": {},
   "outputs": [],
   "source": [
    "sns.set(font_scale=1.4)\n",
    "sns.scatterplot(x=train_n_cl['sdnn'], y=train_n_cl['SDNNa'], hue=train_n_cl['arousal'])"
   ]
  },
  {
   "cell_type": "code",
   "execution_count": null,
   "metadata": {},
   "outputs": [],
   "source": [
    "\n",
    "sns.set(font_scale=1.4)\n",
    "sns.scatterplot(x=train_n_cl['pnn20'], y=train_n_cl['pnn50'], hue=train_n_cl['arousal'])"
   ]
  },
  {
   "cell_type": "code",
   "execution_count": null,
   "metadata": {},
   "outputs": [],
   "source": [
    "sns.set(font_scale=1.4)\n",
    "sns.scatterplot(x=train_n_cl['cvi'], y=train_n_cl['sdnn'], hue=train_n_cl['arousal'])"
   ]
  },
  {
   "cell_type": "code",
   "execution_count": null,
   "metadata": {},
   "outputs": [],
   "source": [
    "sns.set(font_scale=1.4)\n",
    "sns.scatterplot(x=train_n_cl['sdnn'], \n",
    "y=train_n_cl['median_ibi'], hue=train_n_cl['arousal'])"
   ]
  },
  {
   "cell_type": "code",
   "execution_count": null,
   "metadata": {},
   "outputs": [],
   "source": [
    "sns.set(font_scale=1.4)\n",
    "sns.scatterplot(x=train_n_cl['sd1'], y=train_n_cl['SD1d'], hue=train_n_cl['arousal'])"
   ]
  },
  {
   "cell_type": "markdown",
   "metadata": {},
   "source": [
    "# 3.4. Classification Algorithms"
   ]
  },
  {
   "cell_type": "markdown",
   "metadata": {},
   "source": [
    "Decision Tree"
   ]
  },
  {
   "cell_type": "code",
   "execution_count": null,
   "metadata": {},
   "outputs": [],
   "source": [
    "clf = DecisionTreeClassifier(random_state=2,max_depth=15,max_features=\"log2\")\n",
    "predictions = predict(clf, train_x_n, train_y_n, validation_x_n)\n",
    "cf, fscore, accuracy = evaluate(validation_y_n, predictions)\n",
    "print(f\"F1-score: {fscore}\")\n",
    "print(f\"Accuracy: {accuracy}\")"
   ]
  },
  {
   "cell_type": "code",
   "execution_count": null,
   "metadata": {},
   "outputs": [],
   "source": [
    "predictions = predict(clf, train_x_n, train_y_n, test_x_n)\n",
    "cf, fscore, accuracy = evaluate(test_y_n, predictions)\n",
    "fscore_tree_n=fscore\n",
    "acc_tree_n=accuracy\n",
    "print(f\"F1-score: {fscore}\")\n",
    "print(f\"Accuracy: {accuracy}\")"
   ]
  },
  {
   "cell_type": "markdown",
   "metadata": {},
   "source": [
    "Suport Vector Machine"
   ]
  },
  {
   "cell_type": "code",
   "execution_count": null,
   "metadata": {},
   "outputs": [],
   "source": [
    "clf = SVC(kernel='poly',tol=0.1,degree=5)\n",
    "predictions = predict(clf, train_x_n, train_y_n, validation_x_n)\n",
    "cf, fscore, accuracy = evaluate(validation_y_n, predictions)\n",
    "print(f\"F1-score: {fscore}\")\n",
    "print(f\"Accuracy: {accuracy}\")\n"
   ]
  },
  {
   "cell_type": "code",
   "execution_count": null,
   "metadata": {},
   "outputs": [],
   "source": [
    "predictions = predict(clf, train_x_n, train_y_n, test_x_n)\n",
    "cf, fscore, accuracy = evaluate(test_y_n, predictions)\n",
    "fscore_svm_n=fscore\n",
    "acc_svm_n=accuracy\n",
    "print(f\"F1-score: {fscore}\")\n",
    "print(f\"Accuracy: {accuracy}\")"
   ]
  },
  {
   "cell_type": "markdown",
   "metadata": {},
   "source": [
    "KNN"
   ]
  },
  {
   "cell_type": "code",
   "execution_count": null,
   "metadata": {},
   "outputs": [],
   "source": [
    "clf=KNeighborsClassifier(n_neighbors=3,weights='distance')\n",
    "predictions = predict(clf, train_x_n, train_y_n, validation_x_n)\n",
    "cf, fscore, accuracy = evaluate(validation_y_n, predictions)\n",
    "print(f\"F1-score: {fscore}\")\n",
    "print(f\"Accuracy: {accuracy}\")"
   ]
  },
  {
   "cell_type": "code",
   "execution_count": null,
   "metadata": {},
   "outputs": [],
   "source": [
    "predictions = predict(clf, train_x_n, train_y, test_x_n)\n",
    "cf, fscore, accuracy = evaluate(test_y_n, predictions)\n",
    "fscore_knn_n=fscore\n",
    "acc_knn_n=accuracy\n",
    "print(f\"F1-score: {fscore}\")\n",
    "print(f\"Accuracy: {accuracy}\")"
   ]
  },
  {
   "cell_type": "markdown",
   "metadata": {},
   "source": [
    "Random Forest"
   ]
  },
  {
   "cell_type": "code",
   "execution_count": null,
   "metadata": {},
   "outputs": [],
   "source": [
    "clf = RandomForestClassifier(random_state=1,n_estimators=350,min_samples_split=2,max_depth=25,max_features=\"sqrt\")\n",
    "predictions = predict(clf, train_x_n, train_y_n, validation_x_n)\n",
    "cf, fscore, accuracy = evaluate(validation_y_n, predictions)\n",
    "print(f\"F1-score: {fscore}\")\n",
    "print(f\"Accuracy: {accuracy}\")"
   ]
  },
  {
   "cell_type": "code",
   "execution_count": null,
   "metadata": {},
   "outputs": [],
   "source": [
    "predictions = predict(clf, train_x_n, train_y_n, test_x_n)\n",
    "cf, fscore, accuracy = evaluate(test_y_n, predictions)\n",
    "fscore_forest_n=fscore\n",
    "acc_forest_n=accuracy\n",
    "print(f\"F1-score: {fscore}\")\n",
    "print(f\"Accuracy: {accuracy}\")"
   ]
  },
  {
   "cell_type": "code",
   "execution_count": null,
   "metadata": {},
   "outputs": [],
   "source": [
    "level_encoder = LabelEncoder()\n",
    "test_y_new_n = level_encoder.fit_transform(test_y_n)\n",
    "validation_y_new_n = level_encoder.fit_transform(validation_y_n)\n",
    "train_y_new_n = level_encoder.fit_transform(train_y_n)"
   ]
  },
  {
   "cell_type": "markdown",
   "metadata": {},
   "source": [
    "XGB"
   ]
  },
  {
   "cell_type": "code",
   "execution_count": null,
   "metadata": {},
   "outputs": [],
   "source": [
    "clf = xgb.XGBClassifier(n_estimators = 400, max_depth = 5, learning_rate=0.3, use_label_encoder=False,objective='multi:softmax',eval_metric = 'mlogloss')\n",
    "predictions = predict_new(clf, train_x_n, train_y_new_n, validation_x_n)\n",
    "fscore, accuracy = evaluate_new(validation_y_new_n, predictions)\n",
    "print(f\"F1-score: {fscore}\")\n",
    "print(f\"Accuracy: {accuracy}\")\n"
   ]
  },
  {
   "cell_type": "code",
   "execution_count": null,
   "metadata": {},
   "outputs": [],
   "source": [
    "predictions = predict_new(clf, train_x_n, train_y_new_n, test_x_n)\n",
    "fscore, accuracy = evaluate_new(test_y_new_n, predictions)\n",
    "fscore_xgb_n=fscore\n",
    "acc_xgb_n=accuracy\n",
    "print(f\"F1-score: {fscore}\")\n",
    "print(f\"Accuracy: {accuracy}\")"
   ]
  },
  {
   "cell_type": "markdown",
   "metadata": {},
   "source": [
    "AdaBoost"
   ]
  },
  {
   "cell_type": "code",
   "execution_count": null,
   "metadata": {},
   "outputs": [],
   "source": [
    "clf = AdaBoostClassifier(n_estimators=150, random_state=3)\n",
    "predictions = predict_new(clf, train_x_n, train_y_new_n, validation_x_n)\n",
    "fscore, accuracy = evaluate_new(validation_y_new_n, predictions)\n",
    "print(f\"F1-score: {fscore}\")\n",
    "print(f\"Accuracy: {accuracy}\")\n"
   ]
  },
  {
   "cell_type": "code",
   "execution_count": null,
   "metadata": {},
   "outputs": [],
   "source": [
    "predictions = predict_new(clf, train_x_n, train_y_new_n, test_x_n)\n",
    "fscore, accuracy = evaluate_new(test_y_new_n, predictions)\n",
    "fscore_ada_n=fscore\n",
    "acc_ada_n=accuracy\n",
    "print(f\"F1-score: {fscore}\")\n",
    "print(f\"Accuracy: {accuracy}\")\n"
   ]
  },
  {
   "cell_type": "code",
   "execution_count": null,
   "metadata": {},
   "outputs": [],
   "source": [
    "data_n = {'Metric':  ['Accuracy','Fscore'],\n",
    "        'RandomForest': [acc_forest_n,fscore_forest_n],\n",
    "        'Decision Tree': [acc_tree_n,fscore_tree_n],\n",
    "        'KNN':[acc_knn_n,fscore_knn_n],\n",
    "        'SVM': [acc_svm_n,fscore_svm_n],\n",
    "        'AdaBoost' :[acc_ada_n,fscore_ada_n],\n",
    "        'XGB':[acc_xgb_n,fscore_xgb_n],\n",
    "        \n",
    "        }\n",
    "comparison_n = pd.DataFrame (data_n, columns = ['Metric','RandomForest','Decision Tree','KNN' ,'SVM','AdaBoost','XGB'])\n",
    "comparison_n"
   ]
  },
  {
   "cell_type": "markdown",
   "metadata": {},
   "source": [
    "# 4. Best Models for Classification"
   ]
  },
  {
   "cell_type": "markdown",
   "metadata": {},
   "source": [
    "Baseline: Desicion Tree\n",
    "\n",
    "MinMax: AdaBoost\n"
   ]
  },
  {
   "cell_type": "code",
   "execution_count": null,
   "metadata": {},
   "outputs": [],
   "source": [
    "#!pip install imblearn"
   ]
  },
  {
   "cell_type": "code",
   "execution_count": null,
   "metadata": {},
   "outputs": [],
   "source": [
    "\n",
    "# Undersample and plot imbalanced dataset with the Condensed Nearest Neighbor Rule\n",
    "from collections import Counter\n",
    "from sklearn.datasets import make_classification\n",
    "from imblearn.under_sampling import CondensedNearestNeighbour\n",
    "from matplotlib import pyplot\n",
    "from numpy import where\n",
    "\n"
   ]
  },
  {
   "cell_type": "markdown",
   "metadata": {},
   "source": [
    "Baseline undersampling"
   ]
  },
  {
   "cell_type": "code",
   "execution_count": null,
   "metadata": {},
   "outputs": [],
   "source": [
    "counter = Counter(train_y_b)\n",
    "print(counter)\n",
    "# define the undersampling method\n",
    "undersample = CondensedNearestNeighbour(n_neighbors=1)\n",
    "# transform the dataset\n",
    "train_x_under, train_y_under = undersample.fit_resample(train_x_b, train_y_b)\n",
    "# summarize the new class distribution\n",
    "counter = Counter(train_y_under)\n",
    "print(counter)\n"
   ]
  },
  {
   "cell_type": "markdown",
   "metadata": {},
   "source": [
    "Normalisation undersmpling"
   ]
  },
  {
   "cell_type": "code",
   "execution_count": null,
   "metadata": {},
   "outputs": [],
   "source": [
    "counter = Counter(train_y_n)\n",
    "print(counter)\n",
    "# define the undersampling method\n",
    "undersample = CondensedNearestNeighbour(n_neighbors=1)\n",
    "# transform the dataset\n",
    "train_x_under_n, train_y_under_n = undersample.fit_resample(train_x_n, train_y_n)\n",
    "# summarize the new class distribution\n",
    "counter = Counter(train_y_under_n)\n",
    "print(counter)"
   ]
  },
  {
   "cell_type": "markdown",
   "metadata": {},
   "source": [
    "Decision Tree"
   ]
  },
  {
   "cell_type": "code",
   "execution_count": null,
   "metadata": {},
   "outputs": [],
   "source": [
    "dt = DecisionTreeClassifier(random_state=1,max_depth=5)\n",
    "dt.fit(train_x_b, train_y_b)\n",
    "predictions = predict(dt, train_x_under, train_y_under, test_x_b)\n",
    "cf, fscore, accuracy = evaluate(test_y_b, predictions)\n",
    "fscore_tree_b_under=fscore\n",
    "acc_tree_b_under=accuracy\n",
    "print(f\"F1-score: {fscore}\")\n",
    "print(f\"Accuracy: {accuracy}\")\n",
    "f, ax=plt.subplots(figsize=(5,5))\n",
    "sns.heatmap(cf,annot=True,linewidths=0.5,linecolor=\"red\",fmt=\".0f\",ax=ax)\n",
    "plt.xlabel(\"y_pred\")\n",
    "plt.ylabel(\"y_true\")\n",
    "plt.show()"
   ]
  },
  {
   "cell_type": "markdown",
   "metadata": {},
   "source": [
    "AdaBoost"
   ]
  },
  {
   "cell_type": "code",
   "execution_count": null,
   "metadata": {},
   "outputs": [],
   "source": [
    "level_encoder = LabelEncoder()\n",
    "test_y_new_n = level_encoder.fit_transform(test_y_n)\n",
    "train_y_new_n_under = level_encoder.fit_transform(train_y_under_n)\n"
   ]
  },
  {
   "cell_type": "code",
   "execution_count": null,
   "metadata": {},
   "outputs": [],
   "source": [
    "clf = AdaBoostClassifier(n_estimators=150, random_state=3)\n",
    "dt.fit(train_x_under_n, train_y_under_n)\n",
    "predictions = predict(dt, train_x_under_n, train_y_under_n, test_x_n)\n",
    "cf, fscore, accuracy = evaluate(test_y_n, predictions)\n",
    "fscore_ada_n_under=fscore\n",
    "acc_ada_n_under=accuracy\n",
    "print(f\"F1-score: {fscore}\")\n",
    "print(f\"Accuracy: {accuracy}\")\n",
    "f, ax=plt.subplots(figsize=(5,5))\n",
    "sns.heatmap(cf,annot=True,linewidths=0.5,linecolor=\"red\",fmt=\".0f\",ax=ax)\n",
    "plt.xlabel(\"y_pred\")\n",
    "plt.ylabel(\"y_true\")\n",
    "plt.show()"
   ]
  },
  {
   "cell_type": "markdown",
   "metadata": {},
   "source": [
    "Feature selection"
   ]
  },
  {
   "cell_type": "code",
   "execution_count": null,
   "metadata": {},
   "outputs": [],
   "source": [
    "clfRFE =AdaBoostClassifier( n_estimators=150, random_state=3)\n",
    "rfe = RFE(clfRFE, n_features_to_select = 15)\n",
    "fit = rfe.fit(train_x_n, train_y_new_n)\n",
    "print(\"Num Features: %d\" % fit.n_features_)\n",
    "print(\"Selected Features: %s\" % fit.support_)\n",
    "print(\"Feature Ranking: %s\" % fit.ranking_)"
   ]
  },
  {
   "cell_type": "code",
   "execution_count": null,
   "metadata": {},
   "outputs": [],
   "source": [
    "result = np.where(fit.ranking_ == 1)\n",
    "result"
   ]
  },
  {
   "cell_type": "code",
   "execution_count": null,
   "metadata": {},
   "outputs": [],
   "source": [
    "train_x_RFE =train_x_n.iloc[:,[ 1,  3,  7, 10, 16, 17, 18, 19, 22, 23, 25, 27, 29, 32, 33]]\n",
    "test_x_RFE=test_x_n.iloc[:,[ 1,  3,  7, 10, 16, 17, 18, 19, 22, 23, 25, 27, 29, 32, 33]]"
   ]
  },
  {
   "cell_type": "code",
   "execution_count": null,
   "metadata": {},
   "outputs": [],
   "source": [
    "clf = AdaBoostClassifier(n_estimators=150, random_state=3)\n",
    "dt.fit(train_x_RFE, train_y_n)\n",
    "predictions = predict(dt, train_x_RFE, train_y_n, test_x_RFE)\n",
    "cf, fscore, accuracy = evaluate(test_y_n, predictions)\n",
    "fscore_ada_n_imp=fscore\n",
    "acc_ada_n_imp=accuracy\n",
    "print(f\"F1-score: {fscore}\")\n",
    "print(f\"Accuracy: {accuracy}\")\n",
    "f, ax=plt.subplots(figsize=(5,5))\n",
    "sns.heatmap(cf,annot=True,linewidths=0.5,linecolor=\"red\",fmt=\".0f\",ax=ax)\n",
    "plt.xlabel(\"y_pred\")\n",
    "plt.ylabel(\"y_true\")\n",
    "plt.show()"
   ]
  },
  {
   "cell_type": "code",
   "execution_count": null,
   "metadata": {},
   "outputs": [],
   "source": [
    "clfRFE =AdaBoostClassifier( n_estimators=150, random_state=3)\n",
    "rfe = RFE(clfRFE, n_features_to_select = 25)\n",
    "fit = rfe.fit(train_x_n, train_y_new_n)\n",
    "print(\"Num Features: %d\" % fit.n_features_)\n",
    "print(\"Selected Features: %s\" % fit.support_)\n",
    "print(\"Feature Ranking: %s\" % fit.ranking_)"
   ]
  },
  {
   "cell_type": "code",
   "execution_count": null,
   "metadata": {},
   "outputs": [],
   "source": [
    "result = np.where(fit.ranking_ == 1)\n",
    "result"
   ]
  },
  {
   "cell_type": "code",
   "execution_count": null,
   "metadata": {},
   "outputs": [],
   "source": [
    "train_x_RFE_2 =train_x_n.iloc[:,[1,  3,  6,  7,  8, 10, 13, 16, 17, 18, 19, 20, 21, 22, 23, 24, 25,\n",
    "        27, 29, 31, 32, 33, 35, 36, 37]]\n",
    "test_x_RFE_2=test_x_n.iloc[:,[ 1,  3,  6,  7,  8, 10, 13, 16, 17, 18, 19, 20, 21, 22, 23, 24, 25,\n",
    "        27, 29, 31, 32, 33, 35, 36, 37]]"
   ]
  },
  {
   "cell_type": "code",
   "execution_count": null,
   "metadata": {},
   "outputs": [],
   "source": [
    "clf = AdaBoostClassifier(n_estimators=150, random_state=3)\n",
    "dt.fit(train_x_RFE_2, train_y_n)\n",
    "predictions = predict(dt, train_x_RFE_2, train_y_n, test_x_RFE_2)\n",
    "cf, fscore, accuracy = evaluate(test_y_n, predictions)\n",
    "fscore_ada_n_imp2=fscore\n",
    "acc_ada_n_imp2=accuracy\n",
    "print(f\"F1-score: {fscore}\")\n",
    "print(f\"Accuracy: {accuracy}\")\n",
    "f, ax=plt.subplots(figsize=(5,5))\n",
    "sns.heatmap(cf,annot=True,linewidths=0.5,linecolor=\"red\",fmt=\".0f\",ax=ax)\n",
    "plt.xlabel(\"y_pred\")\n",
    "plt.ylabel(\"y_true\")\n",
    "plt.show()"
   ]
  },
  {
   "cell_type": "code",
   "execution_count": null,
   "metadata": {},
   "outputs": [],
   "source": [
    "dtRFE = DecisionTreeClassifier(random_state=1,max_depth=5)\n",
    "rfe = RFE(dtRFE, n_features_to_select = 15)\n",
    "fit = rfe.fit(train_x_b, train_y_new_b)\n",
    "print(\"Num Features: %d\" % fit.n_features_)\n",
    "print(\"Selected Features: %s\" % fit.support_)\n",
    "print(\"Feature Ranking: %s\" % fit.ranking_)"
   ]
  },
  {
   "cell_type": "code",
   "execution_count": null,
   "metadata": {},
   "outputs": [],
   "source": [
    "result = np.where(fit.ranking_ == 1)\n",
    "result"
   ]
  },
  {
   "cell_type": "code",
   "execution_count": null,
   "metadata": {},
   "outputs": [],
   "source": [
    "train_x_RFE3 =train_x_b.iloc[:,[0,  1,  3,  5,  6,  8, 10, 18, 19, 20, 21, 33, 35, 37, 38]]\n",
    "test_x_RFE3=test_x_b.iloc[:,[ 0,  1,  3,  5,  6,  8, 10, 18, 19, 20, 21, 33, 35, 37, 38]]"
   ]
  },
  {
   "cell_type": "code",
   "execution_count": null,
   "metadata": {},
   "outputs": [],
   "source": [
    "dtRFE.fit(train_x_RFE3, train_y_b)\n",
    "predictions = predict(dtRFE, train_x_RFE3, train_y_b, test_x_RFE3)\n",
    "cf, fscore, accuracy = evaluate(test_y_b, predictions)\n",
    "fscore_tree_b_imp=fscore\n",
    "acc_tree_b_imp=accuracy\n",
    "print(f\"F1-score: {fscore}\")\n",
    "print(f\"Accuracy: {accuracy}\")\n",
    "f, ax=plt.subplots(figsize=(5,5))\n",
    "sns.heatmap(cf,annot=True,linewidths=0.5,linecolor=\"red\",fmt=\".0f\",ax=ax)\n",
    "plt.xlabel(\"y_pred\")\n",
    "plt.ylabel(\"y_true\")\n",
    "plt.show()\n"
   ]
  },
  {
   "cell_type": "code",
   "execution_count": null,
   "metadata": {},
   "outputs": [],
   "source": [
    "dtRFE = DecisionTreeClassifier(random_state=1,max_depth=5)\n",
    "rfe = RFE(dtRFE, n_features_to_select = 25)\n",
    "fit = rfe.fit(train_x_b, train_y_new_b)\n",
    "print(\"Num Features: %d\" % fit.n_features_)\n",
    "print(\"Selected Features: %s\" % fit.support_)\n",
    "print(\"Feature Ranking: %s\" % fit.ranking_)"
   ]
  },
  {
   "cell_type": "code",
   "execution_count": null,
   "metadata": {},
   "outputs": [],
   "source": [
    "result = np.where(fit.ranking_ == 1)\n",
    "result"
   ]
  },
  {
   "cell_type": "code",
   "execution_count": null,
   "metadata": {},
   "outputs": [],
   "source": [
    "train_x_RFE4 =train_x_b.iloc[:,[0,  1,  2,  3,  4,  5,  6,  7,  8, 10, 16, 17, 18, 19, 20, 21, 23,\n",
    "        24, 26, 28, 33, 35, 36, 37, 38]]\n",
    "test_x_RFE4=test_x_b.iloc[:,[ 0,  1,  2,  3,  4,  5,  6,  7,  8, 10, 16, 17, 18, 19, 20, 21, 23,\n",
    "        24, 26, 28, 33, 35, 36, 37, 38]]"
   ]
  },
  {
   "cell_type": "code",
   "execution_count": null,
   "metadata": {},
   "outputs": [],
   "source": [
    "dtRFE.fit(train_x_RFE4, train_y_b)\n",
    "predictions = predict(dtRFE, train_x_RFE4, train_y_b, test_x_RFE4)\n",
    "cf, fscore, accuracy = evaluate(test_y_b, predictions)\n",
    "fscore_tree_b_imp2=fscore\n",
    "acc_tree_b_imp2=accuracy\n",
    "print(f\"F1-score: {fscore}\")\n",
    "print(f\"Accuracy: {accuracy}\")\n",
    "f, ax=plt.subplots(figsize=(5,5))\n",
    "sns.heatmap(cf,annot=True,linewidths=0.5,linecolor=\"red\",fmt=\".0f\",ax=ax)\n",
    "plt.xlabel(\"y_pred\")\n",
    "plt.ylabel(\"y_true\")\n",
    "plt.show()"
   ]
  },
  {
   "cell_type": "markdown",
   "metadata": {},
   "source": [
    "# 5. Best model for classification"
   ]
  },
  {
   "cell_type": "code",
   "execution_count": null,
   "metadata": {},
   "outputs": [],
   "source": [
    "data_c= {'Metric':  ['Accuracy','Fscore'],\n",
    "          'Decision Tree': [acc_tree_b,fscore_tree_b],\n",
    "        }\n",
    "comparison_c = pd.DataFrame (data_c, columns = ['Metric','Decision Tree'])\n",
    "comparison_c"
   ]
  },
  {
   "cell_type": "markdown",
   "metadata": {},
   "source": [
    "# Regression"
   ]
  },
  {
   "cell_type": "code",
   "execution_count": null,
   "metadata": {},
   "outputs": [],
   "source": []
  }
 ],
 "metadata": {
  "kernelspec": {
   "display_name": "Python 3.9.7 ('base')",
   "language": "python",
   "name": "python3"
  },
  "language_info": {
   "codemirror_mode": {
    "name": "ipython",
    "version": 3
   },
   "file_extension": ".py",
   "mimetype": "text/x-python",
   "name": "python",
   "nbconvert_exporter": "python",
   "pygments_lexer": "ipython3",
   "version": "3.9.7"
  },
  "orig_nbformat": 4,
  "vscode": {
   "interpreter": {
    "hash": "30a6e74af0fa266845fe6dc278ad8868af254b1f44a40f17b17c9a28151e2db1"
   }
  }
 },
 "nbformat": 4,
 "nbformat_minor": 2
}
